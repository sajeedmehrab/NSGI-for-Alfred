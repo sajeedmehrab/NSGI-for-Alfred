{
 "cells": [
  {
   "cell_type": "code",
   "execution_count": 1,
   "id": "652046f4",
   "metadata": {},
   "outputs": [],
   "source": [
    "from pathlib import Path"
   ]
  },
  {
   "cell_type": "code",
   "execution_count": 2,
   "id": "4a4ebdca",
   "metadata": {},
   "outputs": [],
   "source": [
    "input_file = Path(\"./input_graph3.txt\")\n",
    "output_file = Path(\"./output_graph3.txt\")"
   ]
  },
  {
   "cell_type": "code",
   "execution_count": 3,
   "id": "41366748",
   "metadata": {},
   "outputs": [],
   "source": [
    "input_data = input_file.open('r').readlines()\n",
    "output_data = output_file.open('r').readlines()"
   ]
  },
  {
   "cell_type": "code",
   "execution_count": 12,
   "id": "1394f0d9",
   "metadata": {},
   "outputs": [],
   "source": [
    "# Get rid of empty items in each input and output data\n",
    "input_data_stripped = [data.strip() for data in input_data if data.strip() != \"\"]"
   ]
  },
  {
   "cell_type": "code",
   "execution_count": 18,
   "id": "143036f4",
   "metadata": {},
   "outputs": [],
   "source": [
    "input_data_filtered = [data for data in input_data_stripped if len(data.split()) > 10]"
   ]
  },
  {
   "cell_type": "code",
   "execution_count": 22,
   "id": "27b30f73",
   "metadata": {},
   "outputs": [],
   "source": [
    "input_data_upper = [data for data in input_data_filtered if data[0].isupper()]"
   ]
  },
  {
   "cell_type": "code",
   "execution_count": 11,
   "id": "2f4460a3",
   "metadata": {},
   "outputs": [
    {
     "data": {
      "text/plain": [
       "13730"
      ]
     },
     "execution_count": 11,
     "metadata": {},
     "output_type": "execute_result"
    }
   ],
   "source": [
    "len(input_data)"
   ]
  },
  {
   "cell_type": "code",
   "execution_count": 13,
   "id": "1b1cef0e",
   "metadata": {},
   "outputs": [
    {
     "data": {
      "text/plain": [
       "13730"
      ]
     },
     "execution_count": 13,
     "metadata": {},
     "output_type": "execute_result"
    }
   ],
   "source": [
    "len(input_data_stripped)"
   ]
  },
  {
   "cell_type": "code",
   "execution_count": 19,
   "id": "2a989c6f",
   "metadata": {},
   "outputs": [
    {
     "data": {
      "text/plain": [
       "13730"
      ]
     },
     "execution_count": 19,
     "metadata": {},
     "output_type": "execute_result"
    }
   ],
   "source": [
    "len(input_data_filtered)"
   ]
  },
  {
   "cell_type": "code",
   "execution_count": 23,
   "id": "2f2c3922",
   "metadata": {},
   "outputs": [
    {
     "data": {
      "text/plain": [
       "11933"
      ]
     },
     "execution_count": 23,
     "metadata": {},
     "output_type": "execute_result"
    }
   ],
   "source": [
    "len(input_data_upper)"
   ]
  },
  {
   "cell_type": "code",
   "execution_count": 14,
   "id": "3b788da3",
   "metadata": {},
   "outputs": [],
   "source": [
    "output_data_stripped = [data.strip() for data in output_data if data.strip() != \"\"]"
   ]
  },
  {
   "cell_type": "code",
   "execution_count": 20,
   "id": "2188b5a9",
   "metadata": {},
   "outputs": [],
   "source": [
    "output_data_filtered = [data for data in output_data_stripped if len(data.split()) > 10]"
   ]
  },
  {
   "cell_type": "code",
   "execution_count": 25,
   "id": "6ec9d946",
   "metadata": {},
   "outputs": [],
   "source": [
    "output_data_upper = [data for data in output_data_filtered if data[0].isupper()]"
   ]
  },
  {
   "cell_type": "code",
   "execution_count": 21,
   "id": "5c2cba19",
   "metadata": {},
   "outputs": [
    {
     "data": {
      "text/plain": [
       "13739"
      ]
     },
     "execution_count": 21,
     "metadata": {},
     "output_type": "execute_result"
    }
   ],
   "source": [
    "len(output_data)"
   ]
  },
  {
   "cell_type": "code",
   "execution_count": 15,
   "id": "ab2ce583",
   "metadata": {},
   "outputs": [
    {
     "data": {
      "text/plain": [
       "13733"
      ]
     },
     "execution_count": 15,
     "metadata": {},
     "output_type": "execute_result"
    }
   ],
   "source": [
    "len(output_data_stripped)"
   ]
  },
  {
   "cell_type": "code",
   "execution_count": 24,
   "id": "200e6803",
   "metadata": {},
   "outputs": [
    {
     "data": {
      "text/plain": [
       "13732"
      ]
     },
     "execution_count": 24,
     "metadata": {},
     "output_type": "execute_result"
    }
   ],
   "source": [
    "len(output_data_filtered)"
   ]
  },
  {
   "cell_type": "code",
   "execution_count": 26,
   "id": "66f62632",
   "metadata": {},
   "outputs": [
    {
     "data": {
      "text/plain": [
       "11933"
      ]
     },
     "execution_count": 26,
     "metadata": {},
     "output_type": "execute_result"
    }
   ],
   "source": [
    "len(output_data_upper)"
   ]
  },
  {
   "cell_type": "code",
   "execution_count": 30,
   "id": "0f54df4f",
   "metadata": {},
   "outputs": [
    {
     "data": {
      "text/plain": [
       "['Put a pot with a knife in it on a table. <-> Turn around, go across the room to the black oven. <-> Take the knife from the counter on the right of the oven. <-> Turn around, go across the room to the white oven. <-> Put the knife in the pot on the right back burner on the stove top. <-> Take the pan from the right back burner on the stop top. <-> Turn around, go to the white table facing its long side. <-> Put the pot in front of the coffee table.',\n",
       " \"Placing a sliced cabbage in the sink <-> Walk to the counter that's to the left of the oven <-> Grab the large knife that's on the counter <-> Move slightly to the left <-> Slice the cabbage that's on the counter with the knife <-> Move slightly to the right <-> Place the knife back on the counter <-> Move slightly to the left <-> Grab one of the cabbage slices <-> Turn to your left and face the fridge <-> Open the bottom door of the fridge and put the cabbage inside it. Close the door. Open the door, and then take the cabbage out. Then close the door. <-> Turn around and head to the sink <-> Place the cabbage in the sink\",\n",
       " 'Place a cabbage slice in a pan and put in the fridge. <-> Walk forward and turn right to reach the edge of the kitchen counter next to the stove. <-> Pick up the knife above the fork on the left side. <-> Turn right, go to the center of the kitchen, turn right and head to the fridge. <-> Open the fridge, cut the cabbage on the middle shelf, close the door. <-> Take a step back to be centered with the fridge. <-> Open the fridge, place the knife inside below the cabbage, close the door. <-> Take a step up to get closer to the fridge. <-> Open the fridge, grab a slice of cabbage, close the door. <-> Turn around and go to the stove. <-> Place the cabbage into the bottom pan on the stove. <-> Pick up the pan with the cabbage off the stove. <-> Turn around and return back to the fridge. <-> Open the fridge door, place the pan with the cabbage slice into the fridge next to the cabbage, close the door.',\n",
       " 'Move a phone over to the desk. <-> Turn to your right and walk up to the built-in shelving. <-> Pick up the phone that is sitting on the shelving. <-> Turn around until you are facing the white desk that the laptop is sitting on. <-> Place the phone to the left of the laptop.',\n",
       " 'Put a heated apple in a black bin. <-> Turn left and walk forward, then turn left and walk over to the fridge, turn left again and walk up to the small black bin to the left of the fridge. <-> Pick up the apple out of the small black bin. <-> Turn around and forward, then hang a left and walk across the room to the microwave on the counter. <-> Open the microwave and put the apple inside then close the door, turn on the microwave, after a couple seconds open the microwave and remove the now heated apple, then close the microwave. <-> Turn left and walk over to the counter, then turn left and walk across the room to the fridge. <-> Put the heated apple in the small black bin to the left of the fridge.',\n",
       " 'Take the laptop from the couch, turn on the lamp <-> Head left through the door to the living room <-> walk to the couch <-> take the laptop from the couch, head left <-> turn on the lamp in the corner',\n",
       " 'Turn on a lamp while holding a basketball. <-> Turn around face the dog bed. <-> Pick up the basketball from the dog bed. <-> Turn to your right and walk towards the dresser. <-> Turn on the lamp on the dresser.',\n",
       " 'Putting a plate with a watch on it on the coffee table <-> Turn right and stand in front of the red sofa and look at the coffee table <-> Grab the watch off of the table <-> Turn right and go to the round dinner table <-> Put the watch on the plate on the table <-> Grab the plate off of the table <-> Turn around and go to the coffee table <-> Put the plate on the table',\n",
       " 'Place a chilled head of lettuce on a table. <-> Walk ahead, then turn right to the sink. <-> Take the lettuce out of the sink. <-> Walk right to the fridge. <-> Place the lettuce in the fridge. Close the door, wait a moment, and take it out again. <-> Turn around and walk to the dining room table. <-> Place the lettuce on the table, near the center.',\n",
       " 'Put a cooled pot on the stove. <-> Turn around and go to stand in front of the stove. <-> Pick up the black pot from the stove. <-> Turn around and walk to stand in front of the fridge. <-> Put the pot in the fridge, close the door and then open it and take the pot out. <-> Turn around and go back to stand in front of the stove. <-> Put the pot on the bottom right of the stove.']"
      ]
     },
     "execution_count": 30,
     "metadata": {},
     "output_type": "execute_result"
    }
   ],
   "source": [
    "input_data_upper[-10:]"
   ]
  },
  {
   "cell_type": "code",
   "execution_count": 31,
   "id": "53387cfe",
   "metadata": {},
   "outputs": [
    {
     "data": {
      "text/plain": [
       "['Put a pot with a knife in it on a table. <-> Turn around, go across the room to the white oven. <-> Put the knife in the pot on the right back burner on the stove top. <-> Take the pan from the right back burner on the stop top. <-> Turn around, go across the room to the black oven. <-> Put a pot with a knife in it on a table.',\n",
       " \"Placing a sliced cabbage in the sink <-> Move slightly to the left <-> Turn to your left and face the fridge <-> Grab one of the cabbage slices <-> Place the cabbage in the sink <-> Move slightly to the left <-> Turn around and head to the sink <-> Slice the cabbage that's on the counter with the knife <-> Grab the large knife that's on the counter <-> Open the bottom door of the fridge and put the cabbage inside it. Close the door. Open the door, and then take the cabbage out. Then close the door. <-> Move slightly to the right <-> Walk to the counter that's to the left of the oven <-> Place the knife back on the counter <-> Place the cabbage in the sink <-> Place\",\n",
       " 'Place a cabbage slice in a pan and put in the fridge. <-> Open the fridge door, place the pan with the cabbage slice into the fridge next to the cabbage, close the door. <-> Turn around and go to the stove. <-> Pick up the pan with the cabbage off the stove. <-> Take a step up to get closer to the fridge. <-> Open the fridge, cut the cabbage on the middle shelf, close the door. <-> Turn right, go to the center of the kitchen, turn right and head to the fridge.',\n",
       " 'Move a phone over to the desk. <-> Turn around until you are facing the white desk that the laptop is sitting on. <-> Place the phone to the left of the laptop. <-> Pick up the phone that is sitting on the shelving. <-> Move a phone over to the desk. <-> Turn to your right and walk up to the built-in shelving. <->',\n",
       " 'Put a heated apple in a black bin. <-> Turn left and walk forward, then turn left and walk over to the fridge, turn left again and walk up to the small black bin to the left of the fridge. <-> Pick up the apple out of the small black bin. <-> Put the heated apple in the small black bin to the left of the fridge. <-> Turn around and forward, then hang a left and walk across the room to the microwave on the counter. <-> Open the microwave and put the apple inside then close the door, turn on the microwave, after a couple seconds open the microwave and remove the now heated apple, then close the microwave. <->',\n",
       " 'Take the laptop from the couch, turn on the lamp <-> walk to the couch <-> take the laptop from the couch, head left <-> Head left through the door to the living room <-> turn on the lamp in the corner <->',\n",
       " 'Turn on a lamp while holding a basketball. <-> Turn around face the dog bed. <-> Pick up the basketball from the dog bed. <-> Turn to your right and walk towards the dresser. <->',\n",
       " 'Putting a plate with a watch on it on the coffee table <-> Turn right and go to the round dinner table <-> Grab the watch off of the table <-> Put the watch on the plate on the table <-> Turn around and go to the coffee table <->',\n",
       " 'Place a chilled head of lettuce on a table. <-> Place the lettuce in the fridge. Close the door, wait a moment, and take it out again. <-> Walk right to the fridge. <-> Turn around and walk to the dining room table. <-> Place a chilled head of lettuce on a table. <-> Walk ahead, then turn right to the sink. <-> Take the lettuce out of the sink.',\n",
       " 'Put a cooled pot on the stove. <-> Turn around and go back to stand in front of the stove. <-> Put the pot in the fridge, close the door and then open it and take the pot out. <-> Pick up the black pot from the stove. <-> Turn around and walk to stand in front of the fridge. <->']"
      ]
     },
     "execution_count": 31,
     "metadata": {},
     "output_type": "execute_result"
    }
   ],
   "source": [
    "output_data_upper[-10:]"
   ]
  },
  {
   "cell_type": "code",
   "execution_count": 35,
   "id": "3e92f0be",
   "metadata": {},
   "outputs": [],
   "source": [
    "input_file_corrected = Path(\"./input_corrected.txt\")\n",
    "with open(input_file_corrected, 'w') as f:\n",
    "    for input_ in input_data_upper:\n",
    "        f.write(input_ + '\\n')"
   ]
  },
  {
   "cell_type": "code",
   "execution_count": 36,
   "id": "569c37fe",
   "metadata": {},
   "outputs": [],
   "source": [
    "output_file_corrected = Path(\"./output_corrected.txt\")\n",
    "with open(output_file_corrected, 'w') as f:\n",
    "    for output_ in output_data_upper:\n",
    "        f.write(output_ + '\\n')"
   ]
  },
  {
   "cell_type": "code",
   "execution_count": null,
   "id": "d8c0a417",
   "metadata": {},
   "outputs": [],
   "source": []
  }
 ],
 "metadata": {
  "kernelspec": {
   "display_name": "Python 3 (ipykernel)",
   "language": "python",
   "name": "python3"
  },
  "language_info": {
   "codemirror_mode": {
    "name": "ipython",
    "version": 3
   },
   "file_extension": ".py",
   "mimetype": "text/x-python",
   "name": "python",
   "nbconvert_exporter": "python",
   "pygments_lexer": "ipython3",
   "version": "3.9.18"
  }
 },
 "nbformat": 4,
 "nbformat_minor": 5
}
