{
 "cells": [
  {
   "cell_type": "code",
   "execution_count": 1,
   "id": "652046f4",
   "metadata": {},
   "outputs": [],
   "source": [
    "from pathlib import Path"
   ]
  },
  {
   "cell_type": "code",
   "execution_count": 2,
   "id": "4a4ebdca",
   "metadata": {},
   "outputs": [],
   "source": [
    "input_file = Path(\"./input_graph3.txt\")\n",
    "output_file = Path(\"./output_graph3.txt\")"
   ]
  },
  {
   "cell_type": "code",
   "execution_count": 3,
   "id": "41366748",
   "metadata": {},
   "outputs": [],
   "source": [
    "input_data = input_file.open('r').readlines()\n",
    "output_data = output_file.open('r').readlines()"
   ]
  },
  {
   "cell_type": "code",
   "execution_count": 4,
   "id": "2f4460a3",
   "metadata": {},
   "outputs": [
    {
     "data": {
      "text/plain": [
       "13730"
      ]
     },
     "execution_count": 4,
     "metadata": {},
     "output_type": "execute_result"
    }
   ],
   "source": [
    "len(input_data)"
   ]
  },
  {
   "cell_type": "code",
   "execution_count": 5,
   "id": "5c2cba19",
   "metadata": {},
   "outputs": [
    {
     "data": {
      "text/plain": [
       "13739"
      ]
     },
     "execution_count": 5,
     "metadata": {},
     "output_type": "execute_result"
    }
   ],
   "source": [
    "len(output_data)"
   ]
  },
  {
   "cell_type": "code",
   "execution_count": 8,
   "id": "0f54df4f",
   "metadata": {},
   "outputs": [
    {
     "data": {
      "text/plain": [
       "['Place a cabbage slice in a pan and put in the fridge. <-> Walk forward and turn right to reach the edge of the kitchen counter next to the stove. <-> Pick up the knife above the fork on the left side. <-> Turn right, go to the center of the kitchen, turn right and head to the fridge. <-> Open the fridge, cut the cabbage on the middle shelf, close the door. <-> Take a step back to be centered with the fridge. <-> Open the fridge, place the knife inside below the cabbage, close the door. <-> Take a step up to get closer to the fridge. <-> Open the fridge, grab a slice of cabbage, close the door. <-> Turn around and go to the stove. <-> Place the cabbage into the bottom pan on the stove. <-> Pick up the pan with the cabbage off the stove. <-> Turn around and return back to the fridge. <-> Open the fridge door, place the pan with the cabbage slice into the fridge next to the cabbage, close the door.\\n',\n",
       " 'Move a phone over to the desk. <-> Turn to your right and walk up to the built-in shelving. <-> Pick up the phone that is sitting on the shelving. <-> Turn around until you are facing the white desk that the laptop is sitting on. <-> Place the phone to the left of the laptop. \\n',\n",
       " 'Put a heated apple in a black bin. <-> Turn left and walk forward, then turn left and walk over to the fridge, turn left again and walk up to the small black bin to the left of the fridge. <-> Pick up the apple out of the small black bin. <-> Turn around and forward, then hang a left and walk across the room to the microwave on the counter. <-> Open the microwave and put the apple inside then close the door, turn on the microwave, after a couple seconds open the microwave and remove the now heated apple, then close the microwave. <-> Turn left and walk over to the counter, then turn left and walk across the room to the fridge. <-> Put the heated apple in the small black bin to the left of the fridge.\\n',\n",
       " 'Take the laptop from the couch, turn on the lamp <-> Head left through the door to the living room <-> walk to the couch <-> take the laptop from the couch, head left <-> turn on the lamp in the corner\\n',\n",
       " 'Turn on a lamp while holding a basketball. <-> Turn around face the dog bed. <-> Pick up the basketball from the dog bed. <-> Turn to your right and walk towards the dresser. <-> Turn on the lamp on the dresser.\\n',\n",
       " 'wash a mug and fill with water <-> turn left go forward turn right to face the counter <-> pick up mug from counter <-> turn right move forward place mug in the sink right of the fork <-> fill the sink with water then fill the mug with water <-> turn right move forward to face the counter <-> place mug on the machine\\n',\n",
       " 'Putting a plate with a watch on it on the coffee table <-> Turn right and stand in front of the red sofa and look at the coffee table <-> Grab the watch off of the table <-> Turn right and go to the round dinner table <-> Put the watch on the plate on the table <-> Grab the plate off of the table <-> Turn around and go to the coffee table <-> Put the plate on the table\\n',\n",
       " 'Place a chilled head of lettuce on a table. <-> Walk ahead, then turn right to the sink. <-> Take the lettuce out of the sink. <-> Walk right to the fridge. <-> Place the lettuce in the fridge. Close the door, wait a moment, and take it out again. <-> Turn around and walk to the dining room table. <-> Place the lettuce on the table, near the center.\\n',\n",
       " 'take the egg out of microwave, wash the egg, put it on the counter <-> turn left, walk around the kitchen to the microwave <-> open the microwave, take the egg out of the microwave, close the microwave <-> turn around, walk to the sink <-> put the egg in the sink, wash the egg with water, take the egg out <-> walk to the right a little <-> put the egg down on the counter\\n',\n",
       " 'Put a cooled pot on the stove. <-> Turn around and go to stand in front of the stove. <-> Pick up the black pot from the stove. <-> Turn around and walk to stand in front of the fridge. <-> Put the pot in the fridge, close the door and then open it and take the pot out. <-> Turn around and go back to stand in front of the stove. <-> Put the pot on the bottom right of the stove.\\n']"
      ]
     },
     "execution_count": 8,
     "metadata": {},
     "output_type": "execute_result"
    }
   ],
   "source": [
    "input_data[13720:]"
   ]
  },
  {
   "cell_type": "code",
   "execution_count": 10,
   "id": "53387cfe",
   "metadata": {},
   "outputs": [
    {
     "data": {
      "text/plain": [
       "['Put a cold lettuce head on a counter. <-> Turn left, go forward, at the sink turn left, go forward to the counter with the toaster. <-> Put the lettuce in the middle rack of the fridge to the right of the potato. Close then open the fridge. Take the lettuce from the fridge. <-> Take the lettuce from the counter. <-> Turn right, go forward to the wall, turn left to the fridge. <-> Go forward, turn right, go forward to the lettuce to the left of the microwave. <-> Go forward, turn right, go\\n',\n",
       " 'put a cup ad toilet paper in a drawer <-> turn around, go to the black trash can that is next to the toilet <-> turn to your right, go to the double sinks <-> go back to the drawer with the cup; open the drawer <-> pick up the brown cup <-> put the cup into the drawer <-> take the toilet paper out of the trash can <-> put a cup ad toilet paper in a drawer <-> open the door that is to your left under the sink closest to the wall <-> pick up the brown cup <->\\n',\n",
       " 'put a washed rag on toilet tank <-> walk to face top of bath tub <-> wash and remove rag from sink <-> walk to face sink <-> pick up black rag from tub basin <-> put rag on toilet tank <-> walk to face toilet <->\\n',\n",
       " 'Examine a watering can in the light of a tall lamp. <-> Turn left and begin walking across the room, then hang a left and walk over to the tall lamp in the corner of the room. <-> Pick up the watering can off of the bottom shelf of the wooden shelving unit in front of you. <->\\n',\n",
       " 'Inspect keys by lamp light. <-> Walk forward until you are past the bed on your right then when you are turn right and walk to the black chair then turn right and walk to the lamp then turn right to face it. <-> Pick up the keys that are on the table under the pen. <-> Turn on the lamp then look down at the table. <->\\n',\n",
       " 'Put the cooked apple in the fridge <-> Turn left and face the microwave on the counter <-> Walk forward and right over to the kitchen sink <-> Turn right and walk over to the fridge <-> Put the apple into the fridge on the lower right shelf <-> Pick up the red apple from the kitchen sink <-> Heat the apple in the microwave then remove it <->\\n',\n",
       " 'Place a box on the coffee table with a watch inside. <-> Turn around, face the couch, then head left towards the door, then turn and face the table. <-> Pick up the watch behind the keys from the table. <-> Place the box in between the statue and the newspaper. <->\\n',\n",
       " 'Put a pot with a knife in it on a table. <-> Turn around, go across the room to the white oven. <-> Put the knife in the pot on the right back burner on the stove top. <-> Take the pan from the right back burner on the stop top. <-> Turn around, go across the room to the black oven. <-> Put a pot with a knife in it on a table.\\n',\n",
       " \"Placing a sliced cabbage in the sink <-> Move slightly to the left <-> Turn to your left and face the fridge <-> Grab one of the cabbage slices <-> Place the cabbage in the sink <-> Move slightly to the left <-> Turn around and head to the sink <-> Slice the cabbage that's on the counter with the knife <-> Grab the large knife that's on the counter <-> Open the bottom door of the fridge and put the cabbage inside it. Close the door. Open the door, and then take the cabbage out. Then close the door. <-> Move slightly to the right <-> Walk to the counter that's to the left of the oven <-> Place the knife back on the counter <-> Place the cabbage in the sink <-> Place\\n\",\n",
       " 'Place a cabbage slice in a pan and put in the fridge. <-> Open the fridge door, place the pan with the cabbage slice into the fridge next to the cabbage, close the door. <-> Turn around and go to the stove. <-> Pick up the pan with the cabbage off the stove. <-> Take a step up to get closer to the fridge. <-> Open the fridge, cut the cabbage on the middle shelf, close the door. <-> Turn right, go to the center of the kitchen, turn right and head to the fridge.\\n',\n",
       " 'Move a phone over to the desk. <-> Turn around until you are facing the white desk that the laptop is sitting on. <-> Place the phone to the left of the laptop. <-> Pick up the phone that is sitting on the shelving. <-> Move a phone over to the desk. <-> Turn to your right and walk up to the built-in shelving. <->\\n',\n",
       " 'Put a heated apple in a black bin. <-> Turn left and walk forward, then turn left and walk over to the fridge, turn left again and walk up to the small black bin to the left of the fridge. <-> Pick up the apple out of the small black bin. <-> Put the heated apple in the small black bin to the left of the fridge. <-> Turn around and forward, then hang a left and walk across the room to the microwave on the counter. <-> Open the microwave and put the apple inside then close the door, turn on the microwave, after a couple seconds open the microwave and remove the now heated apple, then close the microwave. <->\\n',\n",
       " 'Take the laptop from the couch, turn on the lamp <-> walk to the couch <-> take the laptop from the couch, head left <-> Head left through the door to the living room <-> turn on the lamp in the corner <->\\n',\n",
       " 'Turn on a lamp while holding a basketball. <-> Turn around face the dog bed. <-> Pick up the basketball from the dog bed. <-> Turn to your right and walk towards the dresser. <->\\n',\n",
       " 'wash a mug and fill with water <-> turn right move forward to face the counter <-> turn left go forward turn right to face the counter <-> fill the sink with water then fill  the mug with water <-> pick up mug from counter <-> place mug on the machine <-> turn right move forward place mug in the sink right of the fork <->\\n',\n",
       " 'Putting a plate with a watch on it on the coffee table <-> Turn right and go to the round dinner table <-> Grab the watch off of the table <-> Put the watch on the plate on the table <-> Turn around and go to the coffee table <->\\n',\n",
       " 'Place a chilled head of lettuce on a table. <-> Place the lettuce in the fridge. Close the door, wait a moment, and take it out again. <-> Walk right to the fridge. <-> Turn around and walk to the dining room table. <-> Place a chilled head of lettuce on a table. <-> Walk ahead, then turn right to the sink. <-> Take the lettuce out of the sink.\\n',\n",
       " 'take the egg out of microwave, wash the egg, put it on the counter <-> put the egg in the sink, wash the egg with water, take the egg out <-> turn around, walk to the sink <-> turn left, walk around the kitchen to the microwave <-> walk to the right a little <-> put the egg down on the counter <-> open the microwave, take the egg out of the microwave, close the microwave <->\\n',\n",
       " 'Put a cooled pot on the stove. <-> Turn around and go back to stand in front of the stove. <-> Put the pot in the fridge, close the door and then open it and take the pot out. <-> Pick up the black pot from the stove. <-> Turn around and walk to stand in front of the fridge. <->\\n']"
      ]
     },
     "execution_count": 10,
     "metadata": {},
     "output_type": "execute_result"
    }
   ],
   "source": [
    "output_data[13720:]"
   ]
  },
  {
   "cell_type": "code",
   "execution_count": null,
   "id": "3e92f0be",
   "metadata": {},
   "outputs": [],
   "source": []
  }
 ],
 "metadata": {
  "kernelspec": {
   "display_name": "Python 3 (ipykernel)",
   "language": "python",
   "name": "python3"
  },
  "language_info": {
   "codemirror_mode": {
    "name": "ipython",
    "version": 3
   },
   "file_extension": ".py",
   "mimetype": "text/x-python",
   "name": "python",
   "nbconvert_exporter": "python",
   "pygments_lexer": "ipython3",
   "version": "3.9.18"
  }
 },
 "nbformat": 4,
 "nbformat_minor": 5
}
