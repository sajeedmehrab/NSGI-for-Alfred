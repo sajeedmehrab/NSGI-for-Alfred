{
 "cells": [
  {
   "cell_type": "code",
   "execution_count": 6,
   "id": "42bd6d4b-5c77-4792-9513-86a227d945cd",
   "metadata": {
    "tags": []
   },
   "outputs": [],
   "source": [
    "from pathlib import Path \n",
    "import json\n",
    "import os \n",
    "from tqdm import tqdm\n",
    "import random\n",
    "import copy"
   ]
  },
  {
   "cell_type": "code",
   "execution_count": 7,
   "id": "a45fd565-cae7-4de9-894e-15d6e6dd3ec5",
   "metadata": {
    "tags": []
   },
   "outputs": [],
   "source": [
    "# input_file = open('/home/tianyu/input_graph3.txt', 'r')\n",
    "# output_file = open('/home/tianyu/output_graph3.txt', 'r')\n",
    "input_file = open('/home/tianyu/input_corrected.txt', 'r')\n",
    "output_file = open('/home/tianyu/output_corrected.txt', 'r')\n",
    "input_lines = input_file.readlines()\n",
    "output_lines = output_file.readlines()"
   ]
  },
  {
   "cell_type": "code",
   "execution_count": 8,
   "id": "2f6e834f-c254-4ab3-928a-4dad6c90aeab",
   "metadata": {
    "tags": []
   },
   "outputs": [
    {
     "name": "stdout",
     "output_type": "stream",
     "text": [
      "11933 11933\n"
     ]
    }
   ],
   "source": [
    "print(str(len(input_lines)) + \" \" + str(len(output_lines)))"
   ]
  },
  {
   "cell_type": "code",
   "execution_count": 9,
   "id": "cdd6e847-8c74-4fbe-929b-7e4971a49eba",
   "metadata": {
    "tags": []
   },
   "outputs": [
    {
     "name": "stdout",
     "output_type": "stream",
     "text": [
      "Place the stack of items on the table.<<=>>Put the knife in the black mug.\n"
     ]
    }
   ],
   "source": [
    "for in_index in range(len(input_lines)):\n",
    "    ind = input_lines[in_index].rfind(\"<->\")\n",
    "    input_lines[in_index] = input_lines[in_index][ind+4:].rstrip()\n",
    "for out_index in range(len(output_lines)):\n",
    "    ind = output_lines[out_index].rfind(\"<->\")\n",
    "    output_lines[out_index] = output_lines[out_index][:ind]\n",
    "    ind = output_lines[out_index].rfind(\"<->\")\n",
    "    output_lines[out_index] = output_lines[out_index][ind+4:].rstrip()\n",
    "print(input_lines[0] + \"<<=>>\" + output_lines[0])"
   ]
  },
  {
   "cell_type": "code",
   "execution_count": 10,
   "id": "4138a686-9b5b-472d-941a-b5f5253f53b7",
   "metadata": {
    "tags": []
   },
   "outputs": [
    {
     "name": "stdout",
     "output_type": "stream",
     "text": [
      "Total input lines: 11933; 1790 of input and output lines matched.\n"
     ]
    }
   ],
   "source": [
    "match_counter = 0\n",
    "for ind in range(len(input_lines)): \n",
    "    if input_lines[ind] == output_lines[ind]: match_counter += 1\n",
    "print(\"Total input lines: {}; {} of input and output lines matched.\".format(str(len(input_lines)), str(match_counter)))"
   ]
  },
  {
   "cell_type": "code",
   "execution_count": null,
   "id": "37b8bb39-7a0c-4776-99ab-8d2941f746d3",
   "metadata": {},
   "outputs": [],
   "source": []
  }
 ],
 "metadata": {
  "kernelspec": {
   "display_name": "Python 3 (ipykernel)",
   "language": "python",
   "name": "python3"
  },
  "language_info": {
   "codemirror_mode": {
    "name": "ipython",
    "version": 3
   },
   "file_extension": ".py",
   "mimetype": "text/x-python",
   "name": "python",
   "nbconvert_exporter": "python",
   "pygments_lexer": "ipython3",
   "version": "3.11.5"
  }
 },
 "nbformat": 4,
 "nbformat_minor": 5
}
